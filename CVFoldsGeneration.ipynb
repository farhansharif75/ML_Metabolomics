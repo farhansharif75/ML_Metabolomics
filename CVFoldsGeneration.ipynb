{
 "cells": [
  {
   "cell_type": "code",
   "execution_count": 1,
   "id": "4bca4762-30e4-4043-bbb6-61b0a8c581f2",
   "metadata": {},
   "outputs": [
    {
     "name": "stdout",
     "output_type": "stream",
     "text": [
      "/home/fs1620/MLBD_2024_25/Research_Project/LiaDataAnalysis\n"
     ]
    }
   ],
   "source": [
    "import os\n",
    "from glob import glob\n",
    "from pathlib import Path\n",
    "\n",
    "cwd = Path.cwd()\n",
    "print(cwd)\n",
    "prepped_data_dir = cwd / \"PreppedData\""
   ]
  },
  {
   "cell_type": "code",
   "execution_count": 7,
   "id": "154bd6c3-a1a7-44e3-9601-96937befcb6c",
   "metadata": {},
   "outputs": [
    {
     "name": "stdout",
     "output_type": "stream",
     "text": [
      "Changed working directory to: /home/fs1620/MLBD_2024_25/Research_Project/LiaDataAnalysis/PreppedData\n"
     ]
    }
   ],
   "source": [
    "# If current path does not end in \"Annotations\", move into it\n",
    "if cwd.name != \"PreppedData\":\n",
    "    if prepped_data_dir.exists():\n",
    "        os.chdir(prepped_data_dir)\n",
    "        print(f\"Changed working directory to: {prepped_data_dir}\")\n",
    "    else:\n",
    "        raise FileNotFoundError(f\"'Annotations' directory not found at: {prepped_data_dir}\")\n",
    "else:\n",
    "    print(\"Already in Annotations directory.\")"
   ]
  },
  {
   "cell_type": "code",
   "execution_count": 9,
   "id": "79d62510-e952-444a-af0e-9430f736d804",
   "metadata": {},
   "outputs": [],
   "source": [
    "X = np.load('X.npy')\n",
    "y = np.load('y.npy')"
   ]
  },
  {
   "cell_type": "code",
   "execution_count": 13,
   "id": "dadc7f59-12cd-4e81-8edb-c6eee1258e8e",
   "metadata": {},
   "outputs": [],
   "source": [
    "import numpy as np\n",
    "import json\n",
    "from sklearn.model_selection import StratifiedKFold\n",
    "import os\n",
    "\n",
    "def generate_strat_folds(\n",
    "    x_path='',\n",
    "    y_path='',\n",
    "    save_path='',\n",
    "    n_splits=5,\n",
    "    random_state=42,\n",
    "    shuffle=True,\n",
    "    return_folds=True\n",
    "):\n",
    "    \"\"\"\n",
    "    Generates stratified cross-validation folds and saves them to a JSON file.\n",
    "\n",
    "    Args:\n",
    "        x_path (str): Path to X.npy (features).\n",
    "        y_path (str): Path to y.npy (labels).\n",
    "        save_path (str): Path to save folds JSON.\n",
    "        n_splits (int): Number of cross-validation folds.\n",
    "        random_state (int): Random seed for reproducibility.\n",
    "        shuffle (bool): Whether to shuffle before splitting.\n",
    "        return_folds (bool): If True, returns folds as a list of dicts.\n",
    "\n",
    "    Returns:\n",
    "        List[dict]: List of folds with 'train_idx' and 'val_idx' if return_folds is True.\n",
    "    \"\"\"\n",
    "    \n",
    "    X = np.load(x_path)\n",
    "    y = np.load(y_path)\n",
    "\n",
    "    skf = StratifiedKFold(n_splits=n_splits, shuffle=shuffle, random_state=random_state)\n",
    "\n",
    "    folds = []\n",
    "    for fold_idx, (train_idx, val_idx) in enumerate(skf.split(X, y)):\n",
    "        folds.append({\n",
    "            'fold': fold_idx,\n",
    "            'train_idx': train_idx.tolist(),\n",
    "            'val_idx': val_idx.tolist()\n",
    "        })\n",
    "\n",
    "    save_dir = os.path.dirname(save_path)\n",
    "    if save_dir:\n",
    "        os.makedirs(save_dir, exist_ok=True)\n",
    "    with open(save_path, 'w') as f:\n",
    "        json.dump(folds, f, indent=2)\n",
    "\n",
    "    print(f\"Saved {n_splits} stratified folds to: {save_path}\")\n",
    "    \n",
    "    if return_folds:\n",
    "        return folds"
   ]
  },
  {
   "cell_type": "code",
   "execution_count": 14,
   "id": "22aeb932-b813-4423-9509-1f3a6668cbd8",
   "metadata": {},
   "outputs": [
    {
     "name": "stdout",
     "output_type": "stream",
     "text": [
      "Saved 5 stratified folds to: stratified_folds.json\n"
     ]
    }
   ],
   "source": [
    "folds = generate_strat_folds(\n",
    "    x_path='X.npy',\n",
    "    y_path='y.npy',\n",
    "    save_path='stratified_folds.json',\n",
    "    n_splits=5\n",
    ")"
   ]
  }
 ],
 "metadata": {
  "kernelspec": {
   "display_name": "Python 3 (ipykernel)",
   "language": "python",
   "name": "python3"
  },
  "language_info": {
   "codemirror_mode": {
    "name": "ipython",
    "version": 3
   },
   "file_extension": ".py",
   "mimetype": "text/x-python",
   "name": "python",
   "nbconvert_exporter": "python",
   "pygments_lexer": "ipython3",
   "version": "3.12.7"
  }
 },
 "nbformat": 4,
 "nbformat_minor": 5
}
