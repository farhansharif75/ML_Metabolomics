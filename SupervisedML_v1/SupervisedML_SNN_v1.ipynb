{
 "cells": [
  {
   "cell_type": "markdown",
   "id": "1c7a1c65-3069-49b3-9c26-62df6c746372",
   "metadata": {},
   "source": [
    "# Initial imports"
   ]
  },
  {
   "cell_type": "code",
   "execution_count": 1,
   "id": "3d971c62-edb2-4b52-aeac-74b9262b4b62",
   "metadata": {},
   "outputs": [],
   "source": [
    "# Data loading\n",
    "import os\n",
    "from glob import glob\n",
    "from pathlib import Path\n",
    "\n",
    "# Key imports\n",
    "import numpy as np\n",
    "import matplotlib.pyplot as plt\n",
    "import seaborn as sns\n",
    "from collections import Counter\n",
    "\n",
    "# Preprocessing\n",
    "from sklearn.model_selection import StratifiedKFold\n",
    "from sklearn.preprocessing import StandardScaler\n",
    "from sklearn.decomposition import PCA\n",
    "\n",
    "# ML implementation\n",
    "from sklearn.neural_network import MLPClassifier\n",
    "from sklearn.dummy import DummyClassifier\n",
    "\n",
    "# Model evaluation\n",
    "from sklearn.metrics import (accuracy_score, balanced_accuracy_score, f1_score,\n",
    "                            recall_score, confusion_matrix, ConfusionMatrixDisplay)\n",
    "from sklearn.metrics import classification_report"
   ]
  },
  {
   "cell_type": "markdown",
   "id": "56ce36a0-c2a5-4182-a7aa-9f909336f7f3",
   "metadata": {},
   "source": [
    "# Using all labels"
   ]
  },
  {
   "cell_type": "code",
   "execution_count": 2,
   "id": "51c2abf4-1780-4e46-a4ef-d7c13d2b4fe9",
   "metadata": {},
   "outputs": [
    {
     "name": "stdout",
     "output_type": "stream",
     "text": [
      "/home/fs1620/MLBD_2024_25/Research_Project/LiaDataAnalysis/SupervisedML\n",
      "Changed working directory to: /home/fs1620/MLBD_2024_25/Research_Project/LiaDataAnalysis/SupervisedML/PreppedData\n"
     ]
    }
   ],
   "source": [
    "cwd = Path.cwd()\n",
    "print(cwd)\n",
    "prepped_data_dir = cwd / \"PreppedData\"\n",
    "\n",
    "# If current path does not end in \"PreppedData\", move into it\n",
    "if cwd.name != \"PreppedData\":\n",
    "    if prepped_data_dir.exists():\n",
    "        os.chdir(prepped_data_dir)\n",
    "        print(f\"Changed working directory to: {prepped_data_dir}\")\n",
    "    else:\n",
    "        raise FileNotFoundError(f\"'Annotations' directory not found at: {prepped_data_dir}\")\n",
    "else:\n",
    "    print(f\"Already in {cwd.name} directory.\")"
   ]
  },
  {
   "cell_type": "code",
   "execution_count": 3,
   "id": "c75e2193-fd5c-48bd-9180-e7a84f3062c2",
   "metadata": {},
   "outputs": [
    {
     "name": "stdout",
     "output_type": "stream",
     "text": [
      "X:\n"
     ]
    },
    {
     "data": {
      "text/plain": [
       "array([[-0.00021589, -0.00021589, -0.00021589, ..., -0.00021589,\n",
       "        -0.00021589, -0.00021589],\n",
       "       [-0.00021602, -0.00021602, -0.00021602, ..., -0.00021602,\n",
       "        -0.00021602, -0.00021602],\n",
       "       [-0.00023529, -0.00023529, -0.00023529, ..., -0.00023529,\n",
       "        -0.00023529, -0.00023529],\n",
       "       ...,\n",
       "       [-0.00026413, -0.00026413, -0.00026413, ..., -0.00018941,\n",
       "        -0.00026413, -0.00026413],\n",
       "       [-0.00026318, -0.00026318, -0.00026318, ..., -0.0001802 ,\n",
       "        -0.00026318, -0.00026318],\n",
       "       [-0.00025636, -0.00025636, -0.00025636, ..., -0.00025636,\n",
       "        -0.00025636, -0.00025636]])"
      ]
     },
     "metadata": {},
     "output_type": "display_data"
    },
    {
     "name": "stdout",
     "output_type": "stream",
     "text": [
      "\n",
      "Class counts: Counter({np.int64(0): 1637, np.int64(1): 895, np.int64(2): 363, np.int64(4): 97, np.int64(3): 73})\n",
      "\n",
      "X shape: (3065, 2947) y shape: (3065,)\n",
      "\n",
      "Unique class labels: [0 1 2 3 4]\n"
     ]
    }
   ],
   "source": [
    "# Load data, display relevant summary stats\n",
    "n_split = 5\n",
    "shuffle = True\n",
    "random_state = 42\n",
    "\n",
    "data = np.load('combined_logmed_transformed.npz')\n",
    "X = data['X']\n",
    "y = data['y']\n",
    "\n",
    "print('X:')\n",
    "display(X)\n",
    "print('\\nClass counts:', Counter(y))\n",
    "print('\\nX shape:', X.shape, 'y shape:', y.shape)\n",
    "print('\\nUnique class labels:', np.unique(y))"
   ]
  },
  {
   "cell_type": "code",
   "execution_count": 4,
   "id": "8d03d555-cd35-4ce0-abbd-5367d75ada06",
   "metadata": {},
   "outputs": [
    {
     "name": "stdout",
     "output_type": "stream",
     "text": [
      "2452\n",
      "613\n",
      "No overlap in fold 1 indices.\n",
      "2452\n",
      "613\n",
      "No overlap in fold 2 indices.\n",
      "2452\n",
      "613\n",
      "No overlap in fold 3 indices.\n",
      "2452\n",
      "613\n",
      "No overlap in fold 4 indices.\n",
      "2452\n",
      "613\n",
      "No overlap in fold 5 indices.\n"
     ]
    }
   ],
   "source": [
    "# Perfom stratified sampling\n",
    "skf = StratifiedKFold(n_splits=5, shuffle=True, random_state=42)\n",
    "folds = []\n",
    "for i, (train_idx, val_idx) in enumerate(skf.split(X, y)):\n",
    "    folds.append({'fold': i+1, 'train_idx': train_idx, 'val_idx': val_idx})\n",
    "\n",
    "for fold in folds:\n",
    "    train_idx = fold['train_idx']\n",
    "    val_idx = fold['val_idx']\n",
    "    print(len(train_idx))\n",
    "    print(len(val_idx))\n",
    "    \n",
    "    # Check if train and val indices overlap\n",
    "    overlap = set(train_idx).intersection(val_idx)\n",
    "    if len(overlap) > 0:\n",
    "        print(f\"Warning: Overlap found in fold {fold['fold']} indices: {overlap}\")\n",
    "    else:\n",
    "        print(f\"No overlap in fold {fold['fold']} indices.\")"
   ]
  },
  {
   "cell_type": "code",
   "execution_count": 5,
   "id": "be4a2bef-f8a8-4c87-b704-0bcdc303090f",
   "metadata": {},
   "outputs": [],
   "source": [
    "def snn_cv(folds, X, y, verbose = 0,\n",
    "              scoring_fns = None, use_shuffled_labels = False, use_stdscale = True,\n",
    "              use_pca = True, pca_variance = 0.95, plot_cm_final = True, dummy = True):\n",
    "    \"\"\"\n",
    "    Evaluate Simple Neural Network, SNN, (and, optionally, a Dummy Classifier) on CV folds, \n",
    "    with optional PCA.\n",
    "\n",
    "    Key Parameters:\n",
    "        - folds (list of dict): Each dict has keys 'fold', 'train_idx', 'val_idx'.\n",
    "        - X (np.ndarray): Feature matrix.\n",
    "        - y (np.ndarray): Label vector.\n",
    "\n",
    "    Advanced Parameters:\n",
    "        - verbose (int): Sets the level of details in the output. \n",
    "                        -> 0: Minimal details, only final results.\n",
    "                        -> 1: Moderate details, per CV split performance.\n",
    "                        -> 2: Maximal details, per CV split PCA results + performance.\n",
    "        - use_shuffled_labels (bool): Whether to shuffle training labels. \n",
    "                                      Used as a diagnostic tool, so expect poor performance if using this.\n",
    "        - use_stdscale (bool): Whether to standardise features.\n",
    "        - use_pca (bool): Whether to apply PCA.\n",
    "        - pca_variance (float|int): If float (0 < val ≤ 1), preserve that proportion of variance. \n",
    "                                    If int, use that many components.\n",
    "        - plot_cm_final: Whether to plot the final, averaged confusion matrix, over all splits.\n",
    "        - dummy (bool): Whether to include dummy classifier results.\n",
    "        - scoring_fns (dict): Custom scoring functions.\n",
    "                              Format: {\"name\": scoring_function(y_true, y_pred)}\n",
    "    \"\"\"\n",
    "    \n",
    "    if not isinstance(verbose, int):\n",
    "        raise TypeError(\"The 'verbose' parameter must be an integer: 0, 1, or 2.\")\n",
    "\n",
    "    print('Algorithm initialising...')\n",
    "    # Set default scoring functions\n",
    "    if scoring_fns is None:\n",
    "        scoring_fns = {\n",
    "            \"Accuracy\": accuracy_score,\n",
    "            \"Balanced Accuracy\": balanced_accuracy_score,\n",
    "            \"F1 (macro)\": lambda y_true, y_pred: f1_score(y_true, y_pred, average='macro')\n",
    "        }\n",
    "\n",
    "    # Score containers\n",
    "    snn_scores = {name: [] for name in scoring_fns}\n",
    "    dummy_scores = {name: [] for name in scoring_fns} if dummy else None\n",
    "    cms = []\n",
    "\n",
    "    unique_labels = np.unique(y)\n",
    "    all_y_true = []\n",
    "    all_y_pred = []\n",
    "\n",
    "    for fold in folds:\n",
    "        train_idx = fold['train_idx']\n",
    "        val_idx = fold['val_idx']\n",
    "\n",
    "        X_train = X[train_idx]\n",
    "        X_val = X[val_idx]\n",
    "        y_train = y[train_idx]\n",
    "        y_val = y[val_idx]\n",
    "\n",
    "        if use_shuffled_labels:\n",
    "            rng = np.random.default_rng(seed=fold['fold'])\n",
    "            y_train = rng.permutation(y_train)\n",
    "\n",
    "        if verbose >= 1:\n",
    "            print(f\"\\nFold {fold['fold']}\")\n",
    "            print(\" Train label distribution:\", Counter(y_train))\n",
    "            print(\" Val label distribution:  \", Counter(y_val))\n",
    "\n",
    "        if use_stdscale:\n",
    "            scaler = StandardScaler()\n",
    "            X_train = scaler.fit_transform(X_train)\n",
    "            X_val = scaler.transform(X_val)\n",
    "\n",
    "        if use_pca:\n",
    "            pca = PCA(n_components=pca_variance)\n",
    "            X_train = pca.fit_transform(X_train)\n",
    "            X_val = pca.transform(X_val)\n",
    "            if verbose == 2:\n",
    "                print(f\"PCA components: {pca.n_components_}, explained variance: {np.sum(pca.explained_variance_ratio_):.4f}\")\n",
    "\n",
    "        if verbose == 2 and X_train.shape[1] >= 2:\n",
    "            plt.figure(figsize=(6, 4))\n",
    "            scatter = plt.scatter(X_train[:, 0], X_train[:, 1], c=y_train, cmap='tab10', alpha=0.6)\n",
    "            plt.title(f'PCA Projection (Fold {fold[\"fold\"]})')\n",
    "            plt.xlabel(\"PC1\")\n",
    "            plt.ylabel(\"PC2\")\n",
    "            plt.colorbar(scatter, label=\"Class\")\n",
    "            plt.tight_layout()\n",
    "            plt.show()\n",
    "            plt.close()\n",
    "\n",
    "        # Dummy Classifier\n",
    "        if dummy:\n",
    "            dummy_model = DummyClassifier(strategy='most_frequent')\n",
    "            dummy_model.fit(X_train, y_train)\n",
    "            y_dummy = dummy_model.predict(X_val)\n",
    "            for name, fn in scoring_fns.items():\n",
    "                try:\n",
    "                    score = fn(y_val, y_dummy)\n",
    "                    dummy_scores[name].append(score)\n",
    "                except Exception as e:\n",
    "                    print(f\"[Dummy] {name} failed: {e}\")\n",
    "\n",
    "        # SNN\n",
    "        snn = MLPClassifier(\n",
    "            hidden_layer_sizes=(100, 50, 25),  # three hidden layers\n",
    "            activation='relu',\n",
    "            solver='adam',\n",
    "            alpha=1e-4,                        # L2 penalty (regularisation)\n",
    "            batch_size='auto',\n",
    "            learning_rate='adaptive',\n",
    "            max_iter=300,\n",
    "            random_state=fold['fold'],\n",
    "            verbose=False\n",
    "        )\n",
    "        snn.fit(X_train, y_train)\n",
    "        snn.fit(X_train, y_train)\n",
    "        y_pred = snn.predict(X_val)\n",
    "        all_y_true.extend(y_val)\n",
    "        all_y_pred.extend(y_pred)\n",
    "\n",
    "        if verbose >= 1:\n",
    "            print(\"\\nClassification Report:\")\n",
    "            print(classification_report(y_val, y_pred, labels=unique_labels, zero_division=0))\n",
    "\n",
    "        for name, fn in scoring_fns.items():\n",
    "            try:\n",
    "                score = fn(y_val, y_pred)\n",
    "                snn_scores[name].append(score)\n",
    "                if verbose >= 1:\n",
    "                    print(f\"{name}: {score:.4f}\")\n",
    "            except Exception as e:\n",
    "                print(f\"[SNN] {name} failed: {e}\")\n",
    "\n",
    "        cm = confusion_matrix(y_val, y_pred, labels=unique_labels)\n",
    "        cms.append(cm)\n",
    "        if verbose >= 1:\n",
    "            disp = ConfusionMatrixDisplay(confusion_matrix=cm, display_labels=unique_labels)\n",
    "            fig, ax = plt.subplots(figsize=(6, 5))\n",
    "            disp.plot(ax=ax, cmap='Blues', colorbar=False)\n",
    "            ax.set_title(f'Confusion Matrix (Fold {fold[\"fold\"]})')\n",
    "            plt.tight_layout()\n",
    "            plt.show()\n",
    "            plt.close()\n",
    "\n",
    "    # Average confusion matrix\n",
    "    if plot_cm_final and cms:\n",
    "        avg_cm = np.mean(cms, axis=0)\n",
    "        plt.figure(figsize=(7, 6))\n",
    "        sns.heatmap(avg_cm, annot=True, fmt=\".1f\", cmap=\"Blues\",\n",
    "                    xticklabels=unique_labels, yticklabels=unique_labels)\n",
    "        plt.xlabel('Predicted label')\n",
    "        plt.ylabel('True label')\n",
    "        plt.title('Average Confusion Matrix Across Folds')\n",
    "        plt.tight_layout()\n",
    "        plt.savefig(\"Average_Confusion_Matrix.png\", dpi=300)\n",
    "        plt.show()\n",
    "        plt.close()\n",
    "\n",
    "    # Summary\n",
    "    if verbose >= 0:\n",
    "        print(\"\\n=== Summary ===\")\n",
    "        if dummy:\n",
    "            for name, scores in dummy_scores.items():\n",
    "                scores = np.array(scores)\n",
    "                print(f\"Dummy — {name}: {np.mean(scores):.4f} ± {np.std(scores):.4f}\")\n",
    "    \n",
    "        print('\\n')\n",
    "        for name, scores in snn_scores.items():\n",
    "            scores = np.array(scores)\n",
    "            print(f\"SNN — {name}: {np.mean(scores):.4f} ± {np.std(scores):.4f}\")\n",
    "    \n",
    "        print(\"\\n=== Final Averaged Classification Report Across All Folds ===\")\n",
    "        print(classification_report(all_y_true, all_y_pred, labels=unique_labels, zero_division = 0))\n",
    "\n",
    "    return {\"snn_scores\": snn_scores, \n",
    "            \"dummy_scores\": dummy_scores if dummy else None,\n",
    "            \"all_y_true\": all_y_true,\n",
    "            \"all_y_pred\": all_y_pred,\n",
    "            \"cms\": cms}"
   ]
  },
  {
   "cell_type": "code",
   "execution_count": 6,
   "id": "5ebdcbf8-5732-42bc-9c74-a35eac8b3822",
   "metadata": {},
   "outputs": [
    {
     "name": "stdout",
     "output_type": "stream",
     "text": [
      "Algorithm initialising...\n"
     ]
    },
    {
     "data": {
      "image/png": "[encoded data removed]",
      "text/plain": [
       "<Figure size 700x600 with 2 Axes>"
      ]
     },
     "metadata": {},
     "output_type": "display_data"
    },
    {
     "name": "stdout",
     "output_type": "stream",
     "text": [
      "\n",
      "=== Summary ===\n",
      "Dummy — Accuracy: 0.5341 ± 0.0008\n",
      "Dummy — Balanced Accuracy: 0.2000 ± 0.0000\n",
      "Dummy — F1 Score (macro): 0.1393 ± 0.0001\n",
      "Dummy — Recall (macro): 0.2000 ± 0.0000\n",
      "\n",
      "\n",
      "SNN — Accuracy: 0.7899 ± 0.0065\n",
      "SNN — Balanced Accuracy: 0.5529 ± 0.0109\n",
      "SNN — F1 Score (macro): 0.5817 ± 0.0173\n",
      "SNN — Recall (macro): 0.5529 ± 0.0109\n",
      "\n",
      "=== Final Averaged Classification Report Across All Folds ===\n",
      "              precision    recall  f1-score   support\n",
      "\n",
      "           0       0.81      0.88      0.84      1637\n",
      "           1       0.75      0.73      0.74       895\n",
      "           2       0.82      0.83      0.82       363\n",
      "           3       0.43      0.12      0.19        73\n",
      "           4       0.67      0.21      0.31        97\n",
      "\n",
      "    accuracy                           0.79      3065\n",
      "   macro avg       0.69      0.55      0.58      3065\n",
      "weighted avg       0.78      0.79      0.78      3065\n",
      "\n"
     ]
    }
   ],
   "source": [
    "custom_metrics = {\n",
    "    \"Accuracy\": accuracy_score,\n",
    "    \"Balanced Accuracy\": balanced_accuracy_score,\n",
    "    \"F1 Score (macro)\": lambda y_true, y_pred: f1_score(y_true, y_pred, average='macro'),\n",
    "    \"Recall (macro)\": lambda y_true, y_pred: recall_score(y_true, y_pred, average='macro')\n",
    "}\n",
    "\n",
    "fit_all_labels = snn_cv(folds = folds, X = X, y = y, scoring_fns = custom_metrics)"
   ]
  },
  {
   "cell_type": "markdown",
   "id": "9e894a38-2a5e-447d-b89a-6f337f3da5bb",
   "metadata": {},
   "source": [
    "# Reduced approach, excluding minority classes 3 (CGIN) & 4 (HPV INFECTION)"
   ]
  },
  {
   "cell_type": "code",
   "execution_count": 7,
   "id": "6899097b-ec2a-4d04-a084-51463f31e010",
   "metadata": {},
   "outputs": [
    {
     "data": {
      "text/plain": [
       "array([[-0.00021589, -0.00021589, -0.00021589, ..., -0.00021589,\n",
       "        -0.00021589, -0.00021589],\n",
       "       [-0.00021602, -0.00021602, -0.00021602, ..., -0.00021602,\n",
       "        -0.00021602, -0.00021602],\n",
       "       [-0.00023529, -0.00023529, -0.00023529, ..., -0.00023529,\n",
       "        -0.00023529, -0.00023529],\n",
       "       ...,\n",
       "       [-0.00026413, -0.00026413, -0.00026413, ..., -0.00018941,\n",
       "        -0.00026413, -0.00026413],\n",
       "       [-0.00026318, -0.00026318, -0.00026318, ..., -0.0001802 ,\n",
       "        -0.00026318, -0.00026318],\n",
       "       [-0.00025636, -0.00025636, -0.00025636, ..., -0.00025636,\n",
       "        -0.00025636, -0.00025636]])"
      ]
     },
     "metadata": {},
     "output_type": "display_data"
    },
    {
     "name": "stdout",
     "output_type": "stream",
     "text": [
      "Counter({np.int64(0): 1637, np.int64(1): 895, np.int64(2): 363})\n",
      "(2895, 2947) (2895,)\n",
      "[0 1 2]\n"
     ]
    }
   ],
   "source": [
    "n_split = 5\n",
    "shuffle = True\n",
    "random_state = 42\n",
    "\n",
    "data = np.load('combined_logmed_transformed.npz')\n",
    "X = data['X']\n",
    "y = data['y']\n",
    "\n",
    "mask = (y != 3) & (y != 4)\n",
    "\n",
    "# Apply mask to X and y\n",
    "X_filtered = X[mask]\n",
    "y_filtered = y[mask]\n",
    "\n",
    "display(X_filtered)\n",
    "print(Counter(y_filtered))\n",
    "print(X_filtered.shape, y_filtered.shape)\n",
    "print(np.unique(y_filtered))\n",
    "\n",
    "skf = StratifiedKFold(n_splits=5, shuffle=True, random_state=42)\n",
    "folds_red = []\n",
    "for i, (train_idx_red, val_idx_red) in enumerate(skf.split(X_filtered, y_filtered)):\n",
    "    folds_red.append({'fold': i+1, 'train_idx': train_idx_red, 'val_idx': val_idx_red})"
   ]
  },
  {
   "cell_type": "code",
   "execution_count": 8,
   "id": "2c7ba252-fa57-4947-9225-0fa0ea26c57f",
   "metadata": {},
   "outputs": [
    {
     "name": "stdout",
     "output_type": "stream",
     "text": [
      "Algorithm initialising...\n"
     ]
    },
    {
     "data": {
      "image/png": "[encoded data removed]",
      "text/plain": [
       "<Figure size 700x600 with 2 Axes>"
      ]
     },
     "metadata": {},
     "output_type": "display_data"
    },
    {
     "name": "stdout",
     "output_type": "stream",
     "text": [
      "\n",
      "=== Summary ===\n",
      "Dummy — Accuracy: 0.5655 ± 0.0008\n",
      "Dummy — Balanced Accuracy: 0.3333 ± 0.0000\n",
      "Dummy — F1 Score (macro): 0.2408 ± 0.0002\n",
      "Dummy — Recall (macro): 0.3333 ± 0.0000\n",
      "\n",
      "\n",
      "SNN — Accuracy: 0.8200 ± 0.0157\n",
      "SNN — Balanced Accuracy: 0.8001 ± 0.0148\n",
      "SNN — F1 Score (macro): 0.8071 ± 0.0170\n",
      "SNN — Recall (macro): 0.8001 ± 0.0148\n",
      "\n",
      "=== Final Averaged Classification Report Across All Folds ===\n",
      "              precision    recall  f1-score   support\n",
      "\n",
      "           0       0.86      0.87      0.86      1637\n",
      "           1       0.74      0.73      0.74       895\n",
      "           2       0.84      0.79      0.82       363\n",
      "\n",
      "    accuracy                           0.82      2895\n",
      "   macro avg       0.81      0.80      0.81      2895\n",
      "weighted avg       0.82      0.82      0.82      2895\n",
      "\n"
     ]
    }
   ],
   "source": [
    "custom_metrics = {\n",
    "    \"Accuracy\": accuracy_score,\n",
    "    \"Balanced Accuracy\": balanced_accuracy_score,\n",
    "    \"F1 Score (macro)\": lambda y_true, y_pred: f1_score(y_true, y_pred, average='macro'),\n",
    "    \"Recall (macro)\": lambda y_true, y_pred: recall_score(y_true, y_pred, average='macro')\n",
    "}\n",
    "\n",
    "fit_red_labels = snn_cv(folds = folds_red, X = X_filtered, y = y_filtered, scoring_fns = custom_metrics)"
   ]
  },
  {
   "cell_type": "code",
   "execution_count": null,
   "id": "8017c83e-2c91-46e0-b141-40020a586b23",
   "metadata": {},
   "outputs": [],
   "source": []
  }
 ],
 "metadata": {
  "kernelspec": {
   "display_name": "Python 3 (ipykernel)",
   "language": "python",
   "name": "python3"
  },
  "language_info": {
   "codemirror_mode": {
    "name": "ipython",
    "version": 3
   },
   "file_extension": ".py",
   "mimetype": "text/x-python",
   "name": "python",
   "nbconvert_exporter": "python",
   "pygments_lexer": "ipython3",
   "version": "3.12.7"
  }
 },
 "nbformat": 4,
 "nbformat_minor": 5
}
