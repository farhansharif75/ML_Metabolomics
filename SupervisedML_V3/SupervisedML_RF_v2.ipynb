{
 "cells": [
  {
   "cell_type": "markdown",
   "id": "133ccaf5-a472-4514-9f86-5afd2b182133",
   "metadata": {},
   "source": [
    "Now, we incorporate oversampling and undersampling strategies into the supervised ML implementation. We will use `SMOTE` for oversampling and `RandomUnderSampler` for undersampling. These will be incorporated per CV split, post `StandardScaler`, but before `PCA`.\n",
    "\n",
    "# Initial imports"
   ]
  },
  {
   "cell_type": "code",
   "execution_count": 5,
   "id": "ce4caa84-40dc-46ad-9e5d-4c810a61cc4a",
   "metadata": {},
   "outputs": [],
   "source": [
    "# Data loading\n",
    "import os\n",
    "from glob import glob\n",
    "from pathlib import Path\n",
    "\n",
    "# Key imports\n",
    "import numpy as np\n",
    "import matplotlib.pyplot as plt\n",
    "import seaborn as sns\n",
    "from collections import Counter\n",
    "\n",
    "# Preprocessing\n",
    "from sklearn.model_selection import StratifiedKFold \n",
    "from sklearn.preprocessing import StandardScaler\n",
    "from sklearn.decomposition import PCA\n",
    "\n",
    "# Over/Undersampling (after standard scaling, before PCA)\n",
    "from imblearn.over_sampling import SMOTE\n",
    "from imblearn.under_sampling import RandomUnderSampler\n",
    "from imblearn.pipeline import Pipeline as ImbPipeline\n",
    "\n",
    "# ML implementation\n",
    "from sklearn.ensemble import RandomForestClassifier\n",
    "from sklearn.dummy import DummyClassifier\n",
    "\n",
    "# Model evaluation\n",
    "from sklearn.metrics import (accuracy_score, balanced_accuracy_score, f1_score,\n",
    "                            recall_score, confusion_matrix, ConfusionMatrixDisplay)\n",
    "from sklearn.metrics import classification_report"
   ]
  },
  {
   "cell_type": "markdown",
   "id": "9d0da951-1b35-4359-b455-c11e3a4cd740",
   "metadata": {},
   "source": [
    "# Using all labels"
   ]
  },
  {
   "cell_type": "code",
   "execution_count": 6,
   "id": "0d4aee5f-0732-48e2-995e-0b7907344ad0",
   "metadata": {},
   "outputs": [
    {
     "name": "stdout",
     "output_type": "stream",
     "text": [
      "/home/fs1620/MLBD_2024_25/Research_Project/LiaDataAnalysis/SupervisedML_v2/PreppedData\n",
      "Already in PreppedData directory.\n"
     ]
    }
   ],
   "source": [
    "cwd = Path.cwd()\n",
    "print(cwd)\n",
    "prepped_data_dir = cwd / \"PreppedData\"\n",
    "\n",
    "# If current path does not end in \"PreppedData\", move into it\n",
    "if cwd.name != \"PreppedData\":\n",
    "    if prepped_data_dir.exists():\n",
    "        os.chdir(prepped_data_dir)\n",
    "        print(f\"Changed working directory to: {prepped_data_dir}\")\n",
    "    else:\n",
    "        raise FileNotFoundError(f\"'Annotations' directory not found at: {prepped_data_dir}\")\n",
    "else:\n",
    "    print(f\"Already in {cwd.name} directory.\")"
   ]
  },
  {
   "cell_type": "code",
   "execution_count": 7,
   "id": "44bd673a-0f34-4578-a610-c6d0467a879a",
   "metadata": {},
   "outputs": [
    {
     "name": "stdout",
     "output_type": "stream",
     "text": [
      "X:\n"
     ]
    },
    {
     "data": {
      "text/plain": [
       "array([[-0.00021589, -0.00021589, -0.00021589, ..., -0.00021589,\n",
       "        -0.00021589, -0.00021589],\n",
       "       [-0.00021602, -0.00021602, -0.00021602, ..., -0.00021602,\n",
       "        -0.00021602, -0.00021602],\n",
       "       [-0.00023529, -0.00023529, -0.00023529, ..., -0.00023529,\n",
       "        -0.00023529, -0.00023529],\n",
       "       ...,\n",
       "       [-0.00026413, -0.00026413, -0.00026413, ..., -0.00018941,\n",
       "        -0.00026413, -0.00026413],\n",
       "       [-0.00026318, -0.00026318, -0.00026318, ..., -0.0001802 ,\n",
       "        -0.00026318, -0.00026318],\n",
       "       [-0.00025636, -0.00025636, -0.00025636, ..., -0.00025636,\n",
       "        -0.00025636, -0.00025636]])"
      ]
     },
     "metadata": {},
     "output_type": "display_data"
    },
    {
     "name": "stdout",
     "output_type": "stream",
     "text": [
      "\n",
      "Class counts: Counter({np.int64(0): 1637, np.int64(1): 895, np.int64(2): 363, np.int64(4): 97, np.int64(3): 73})\n",
      "\n",
      "X shape: (3065, 2947) y shape: (3065,)\n",
      "\n",
      "Unique class labels: [0 1 2 3 4]\n"
     ]
    }
   ],
   "source": [
    "# Load data, display relevant summary stats\n",
    "n_split = 5\n",
    "shuffle = True\n",
    "random_state = 42\n",
    "\n",
    "data = np.load('combined_logmed_transformed.npz')\n",
    "X = data['X']\n",
    "y = data['y']\n",
    "\n",
    "print('X:')\n",
    "display(X)\n",
    "print('\\nClass counts:', Counter(y))\n",
    "print('\\nX shape:', X.shape, 'y shape:', y.shape)\n",
    "print('\\nUnique class labels:', np.unique(y))"
   ]
  },
  {
   "cell_type": "code",
   "execution_count": 8,
   "id": "0c103142-1ad4-4f5a-ab7a-b78824b9752a",
   "metadata": {},
   "outputs": [
    {
     "name": "stdout",
     "output_type": "stream",
     "text": [
      "2452\n",
      "613\n",
      "No overlap in fold 1 indices.\n",
      "2452\n",
      "613\n",
      "No overlap in fold 2 indices.\n",
      "2452\n",
      "613\n",
      "No overlap in fold 3 indices.\n",
      "2452\n",
      "613\n",
      "No overlap in fold 4 indices.\n",
      "2452\n",
      "613\n",
      "No overlap in fold 5 indices.\n"
     ]
    }
   ],
   "source": [
    "# Perfom stratified sampling\n",
    "skf = StratifiedKFold(n_splits=5, shuffle=True, random_state=42)\n",
    "folds = []\n",
    "for i, (train_idx, val_idx) in enumerate(skf.split(X, y)):\n",
    "    folds.append({'fold': i+1, 'train_idx': train_idx, 'val_idx': val_idx})\n",
    "\n",
    "for fold in folds:\n",
    "    train_idx = fold['train_idx']\n",
    "    val_idx = fold['val_idx']\n",
    "    print(len(train_idx))\n",
    "    print(len(val_idx))\n",
    "    \n",
    "    # Check if train and val indices overlap\n",
    "    overlap = set(train_idx).intersection(val_idx)\n",
    "    if len(overlap) > 0:\n",
    "        print(f\"Warning: Overlap found in fold {fold['fold']} indices: {overlap}\")\n",
    "    else:\n",
    "        print(f\"No overlap in fold {fold['fold']} indices.\")"
   ]
  },
  {
   "cell_type": "code",
   "execution_count": 9,
   "id": "bfe514a1-9459-4c24-8467-0e45bcfcc49d",
   "metadata": {},
   "outputs": [],
   "source": [
    "def rf_v2(folds, X, y, verbose = 0,\n",
    "              scoring_fns = None, use_shuffled_labels = False, use_stdscale = True,\n",
    "              use_pca = True, pca_variance = 0.95, plot_cm_final = True, dummy = True,\n",
    "              oversample=False, undersample=False):\n",
    "    \"\"\"\n",
    "    Evaluate RF (and, optionally, a Dummy Classifier) on CV folds, \n",
    "    with optional PCA.\n",
    "\n",
    "    Key Parameters:\n",
    "        - folds (list of dict): Each dict has keys 'fold', 'train_idx', 'val_idx'. \n",
    "                                folds['fold'] must be integers to set as random seeds.\n",
    "        - X (np.ndarray): Feature matrix.\n",
    "        - y (np.ndarray): Label vector.\n",
    "\n",
    "    Advanced Parameters:\n",
    "        - verbose (int): Sets the level of details in the output. \n",
    "                        -> 0: Minimal details, only final results.\n",
    "                        -> 1: Moderate details, per CV split performance.\n",
    "                        -> 2: Maximal details, per CV split PCA results + performance.\n",
    "        - use_shuffled_labels (bool): Whether to shuffle training labels. \n",
    "                                      Used as a diagnostic tool, so expect poor performance if using this.\n",
    "        - use_stdscale (bool): Whether to standardise features.\n",
    "        - use_pca (bool): Whether to apply PCA.\n",
    "        - pca_variance (float|int): If float (0 < val ≤ 1), preserve that proportion of variance. \n",
    "                                    If int, use that many components.\n",
    "        - plot_cm_final (bool): Whether to plot the final, averaged confusion matrix, over all splits.\n",
    "        - dummy (bool): Whether to include dummy classifier results.\n",
    "        - scoring_fns (dict): Custom scoring functions.\n",
    "                              Format: {\"name\": scoring_function(y_true, y_pred)}\n",
    "        - oversample (bool): Whether to use SMOTE for oversampling.\n",
    "        - undersample (bool): Whether to use RandomUnderSampler for undersampling.\n",
    "    \"\"\"\n",
    "    \n",
    "    if not isinstance(verbose, int):\n",
    "        raise TypeError(\"The 'verbose' parameter must be an integer: 0, 1, or 2.\")\n",
    "\n",
    "    print('Algorithm initialising...')\n",
    "\n",
    "    if not use_stdscale and not use_pca:\n",
    "        print(\"⚠️ Warning: Neither scaling nor PCA is applied — may affect model performance.\")\n",
    "\n",
    "    # Set default scoring functions\n",
    "    if scoring_fns is None:\n",
    "        scoring_fns = {\n",
    "            \"Accuracy\": accuracy_score,\n",
    "            \"Balanced Accuracy\": balanced_accuracy_score,\n",
    "            \"F1 (macro)\": lambda y_true, y_pred: f1_score(y_true, y_pred, average='macro')\n",
    "        }\n",
    "\n",
    "    # Score containers\n",
    "    rf_scores = {name: [] for name in scoring_fns}\n",
    "    dummy_scores = {name: [] for name in scoring_fns} if dummy else None\n",
    "    cms = []\n",
    "\n",
    "    unique_labels = np.unique(y)\n",
    "    all_y_true = []\n",
    "    all_y_pred = []\n",
    "\n",
    "    for fold in folds:\n",
    "        train_idx = fold['train_idx']\n",
    "        val_idx = fold['val_idx']\n",
    "\n",
    "        X_train = X[train_idx]\n",
    "        X_val = X[val_idx]\n",
    "        y_train = y[train_idx]\n",
    "        y_val = y[val_idx]\n",
    "\n",
    "        if use_shuffled_labels:\n",
    "            rng = np.random.default_rng(seed=fold['fold'])\n",
    "            y_train = rng.permutation(y_train)\n",
    "\n",
    "        if verbose >= 1:\n",
    "            print(f\"\\nFold {fold['fold']}\")\n",
    "            print(\" Train label distribution:\", Counter(y_train))\n",
    "            print(\" Val label distribution:  \", Counter(y_val))\n",
    "\n",
    "        if use_stdscale:\n",
    "            scaler = StandardScaler()\n",
    "            X_train = scaler.fit_transform(X_train)\n",
    "            X_val = scaler.transform(X_val)\n",
    "\n",
    "        if oversample or undersample:\n",
    "            sampler_steps = []\n",
    "        \n",
    "            if undersample:\n",
    "                # Under-sample majority classes to balance with minorities\n",
    "                sampler_steps.append(('under', RandomUnderSampler(sampling_strategy='auto', random_state=fold['fold'])))\n",
    "        \n",
    "            if oversample:\n",
    "                # SMOTE only works when each class has at least k_neighbors + 1 samples\n",
    "                counts = Counter(y_train)\n",
    "                if any(v <= 5 for v in counts.values()):\n",
    "                    print(f\"⚠️ SMOTE skipped on Fold {fold['fold']} due to small class size\")\n",
    "                else:\n",
    "                    sampler_steps.append(('smote', SMOTE(sampling_strategy='auto', k_neighbors=5, random_state=fold['fold'])))\n",
    "        \n",
    "            if sampler_steps:\n",
    "                sampling_pipeline = ImbPipeline(sampler_steps)\n",
    "                try:\n",
    "                    X_train, y_train = sampling_pipeline.fit_resample(X_train, y_train)\n",
    "                except ValueError as e:\n",
    "                    print(f\"Resampling failed on Fold {fold['fold']}: {e}\")\n",
    "                    continue  # optionally skip this fold\n",
    "\n",
    "        if use_pca:\n",
    "            if isinstance(pca_variance, float):\n",
    "                if not (0 < pca_variance <= 1):\n",
    "                    raise ValueError(\"If float, pca_variance must be between 0 and 1.\")\n",
    "            elif isinstance(pca_variance, int):\n",
    "                if pca_variance <= 0:\n",
    "                    raise ValueError(\"If int, pca_variance must be a positive integer.\")\n",
    "            else:\n",
    "                raise TypeError(\"pca_variance must be a positive float (0 < val ≤ 1) or a positive int.\")\n",
    "        \n",
    "            pca = PCA(n_components=pca_variance)\n",
    "            X_train = pca.fit_transform(X_train)\n",
    "            X_val = pca.transform(X_val)\n",
    "        \n",
    "            if verbose == 2:\n",
    "                print(f\"PCA components: {pca.n_components_}, explained variance: {np.sum(pca.explained_variance_ratio_):.4f}\")\n",
    "\n",
    "        if verbose == 2 and X_train.shape[1] >= 2:\n",
    "            plt.figure(figsize=(6, 4))\n",
    "            scatter = plt.scatter(X_train[:, 0], X_train[:, 1], c=y_train, cmap='tab10', alpha=0.6)\n",
    "            plt.title(f'PCA Projection (Fold {fold[\"fold\"]})')\n",
    "            plt.xlabel(\"PC1\")\n",
    "            plt.ylabel(\"PC2\")\n",
    "            plt.colorbar(scatter, label=\"Class\")\n",
    "            plt.tight_layout()\n",
    "            plt.show()\n",
    "            plt.close()\n",
    "\n",
    "        # Dummy Classifier\n",
    "        if dummy:\n",
    "            dummy_model = DummyClassifier(strategy='most_frequent')\n",
    "            dummy_model.fit(X_train, y_train)\n",
    "            y_dummy = dummy_model.predict(X_val)\n",
    "            for name, fn in scoring_fns.items():\n",
    "                try:\n",
    "                    score = fn(y_val, y_dummy)\n",
    "                    dummy_scores[name].append(score)\n",
    "                except Exception as e:\n",
    "                    print(f\"[Dummy] {name} failed: {e}\")\n",
    "\n",
    "        # Random Forest\n",
    "        rf = RandomForestClassifier(n_estimators=300, max_depth=None, class_weight='balanced', random_state=fold['fold'], n_jobs=-1)\n",
    "        rf.fit(X_train, y_train)\n",
    "        y_pred = rf.predict(X_val)\n",
    "        all_y_true.extend(y_val)\n",
    "        all_y_pred.extend(y_pred)\n",
    "\n",
    "        if verbose >= 1:\n",
    "            print(\"\\nClassification Report:\")\n",
    "            print(classification_report(y_val, y_pred, labels=unique_labels, zero_division = 0))\n",
    "\n",
    "        for name, fn in scoring_fns.items():\n",
    "            try:\n",
    "                score = fn(y_val, y_pred)\n",
    "                rf_scores[name].append(score)\n",
    "                if verbose >= 1:\n",
    "                    print(f\"{name}: {score:.4f}\")\n",
    "            except Exception as e:\n",
    "                print(f\"RF {name} failed: {e}\")\n",
    "\n",
    "        cm = confusion_matrix(y_val, y_pred, labels=unique_labels)\n",
    "        cms.append(cm)\n",
    "        if verbose >= 1:\n",
    "            disp = ConfusionMatrixDisplay(confusion_matrix=cm, display_labels=unique_labels)\n",
    "            fig, ax = plt.subplots(figsize=(6, 5))\n",
    "            disp.plot(ax=ax, cmap='Blues', colorbar=False)\n",
    "            ax.set_title(f'Confusion Matrix (Fold {fold[\"fold\"]})')\n",
    "            plt.tight_layout()\n",
    "            plt.show()\n",
    "            plt.close()\n",
    "\n",
    "    # Average confusion matrix\n",
    "    if plot_cm_final and cms:\n",
    "        avg_cm = np.mean(cms, axis=0)\n",
    "        plt.figure(figsize=(7, 6))\n",
    "        sns.heatmap(avg_cm, annot=True, fmt=\".1f\", cmap=\"Blues\",\n",
    "                    xticklabels=unique_labels, yticklabels=unique_labels)\n",
    "        plt.xlabel('Predicted label')\n",
    "        plt.ylabel('True label')\n",
    "        plt.title('Average Confusion Matrix Across Folds')\n",
    "        plt.tight_layout()\n",
    "        plt.savefig(\"Average_Confusion_Matrix.png\", dpi=300)\n",
    "        plt.show()\n",
    "        plt.close()\n",
    "\n",
    "    # Summary\n",
    "    if verbose >= 0:\n",
    "        print(\"\\n=== Summary ===\")\n",
    "        if dummy:\n",
    "            for name, scores in dummy_scores.items():\n",
    "                scores = np.array(scores)\n",
    "                print(f\"Dummy — {name}: {np.mean(scores):.4f} ± {np.std(scores):.4f}\")\n",
    "    \n",
    "        print('\\n')\n",
    "        for name, scores in rf_scores.items():\n",
    "            scores = np.array(scores)\n",
    "            print(f\"RF — {name}: {np.mean(scores):.4f} ± {np.std(scores):.4f}\")\n",
    "    \n",
    "        print(\"\\n=== Final Averaged Classification Report Across All Folds ===\")\n",
    "        print(classification_report(all_y_true, all_y_pred, labels=unique_labels, zero_division = 0))\n",
    "\n",
    "    return {\"rf_scores\": rf_scores, \n",
    "            \"dummy_scores\": dummy_scores if dummy else None,\n",
    "            \"all_y_true\": all_y_true,\n",
    "            \"all_y_pred\": all_y_pred,\n",
    "            \"cms\": cms}"
   ]
  },
  {
   "cell_type": "code",
   "execution_count": 10,
   "id": "515e9138-a593-485a-ad27-a12ce3f1e097",
   "metadata": {
    "scrolled": true
   },
   "outputs": [
    {
     "name": "stdout",
     "output_type": "stream",
     "text": [
      "Algorithm initialising...\n"
     ]
    },
    {
     "data": {
      "image/png": "[encoded data removed]",
      "text/plain": [
       "<Figure size 700x600 with 2 Axes>"
      ]
     },
     "metadata": {},
     "output_type": "display_data"
    },
    {
     "name": "stdout",
     "output_type": "stream",
     "text": [
      "\n",
      "=== Summary ===\n",
      "Dummy — Accuracy: 0.5341 ± 0.0008\n",
      "Dummy — Balanced Accuracy: 0.2000 ± 0.0000\n",
      "Dummy — F1 Score (weighted): 0.3719 ± 0.0009\n",
      "Dummy — Recall (weighted): 0.5341 ± 0.0008\n",
      "\n",
      "\n",
      "RF — Accuracy: 0.6020 ± 0.0246\n",
      "RF — Balanced Accuracy: 0.6424 ± 0.0365\n",
      "RF — F1 Score (weighted): 0.6323 ± 0.0251\n",
      "RF — Recall (weighted): 0.6020 ± 0.0246\n",
      "\n",
      "=== Final Averaged Classification Report Across All Folds ===\n",
      "              precision    recall  f1-score   support\n",
      "\n",
      "           0       0.82      0.62      0.70      1637\n",
      "           1       0.65      0.47      0.55       895\n",
      "           2       0.57      0.86      0.69       363\n",
      "           3       0.11      0.68      0.20        73\n",
      "           4       0.26      0.59      0.36        97\n",
      "\n",
      "    accuracy                           0.60      3065\n",
      "   macro avg       0.48      0.64      0.50      3065\n",
      "weighted avg       0.71      0.60      0.63      3065\n",
      "\n"
     ]
    }
   ],
   "source": [
    "custom_metrics = {\n",
    "    \"Accuracy\": accuracy_score,\n",
    "    \"Balanced Accuracy\": balanced_accuracy_score,\n",
    "    \"F1 Score (weighted)\": lambda y_true, y_pred: f1_score(y_true, y_pred, average='weighted'),\n",
    "    \"Recall (weighted)\": lambda y_true, y_pred: recall_score(y_true, y_pred, average='weighted')\n",
    "}\n",
    "\n",
    "fit_all_labels = rf_v2(folds = folds, X = X, y = y, scoring_fns = custom_metrics,\n",
    "                           oversample = True, undersample = True)"
   ]
  },
  {
   "cell_type": "markdown",
   "id": "6bd98852-cded-4774-9802-011cfacbf9bc",
   "metadata": {},
   "source": [
    "# Reduced approach, excluding minority classes 3 (CGIN) & 4 (HPV INFECTION)"
   ]
  },
  {
   "cell_type": "code",
   "execution_count": 11,
   "id": "fd33b675-8851-4c87-9cc1-649f0eca4967",
   "metadata": {},
   "outputs": [
    {
     "data": {
      "text/plain": [
       "array([[-0.00021589, -0.00021589, -0.00021589, ..., -0.00021589,\n",
       "        -0.00021589, -0.00021589],\n",
       "       [-0.00021602, -0.00021602, -0.00021602, ..., -0.00021602,\n",
       "        -0.00021602, -0.00021602],\n",
       "       [-0.00023529, -0.00023529, -0.00023529, ..., -0.00023529,\n",
       "        -0.00023529, -0.00023529],\n",
       "       ...,\n",
       "       [-0.00026413, -0.00026413, -0.00026413, ..., -0.00018941,\n",
       "        -0.00026413, -0.00026413],\n",
       "       [-0.00026318, -0.00026318, -0.00026318, ..., -0.0001802 ,\n",
       "        -0.00026318, -0.00026318],\n",
       "       [-0.00025636, -0.00025636, -0.00025636, ..., -0.00025636,\n",
       "        -0.00025636, -0.00025636]])"
      ]
     },
     "metadata": {},
     "output_type": "display_data"
    },
    {
     "name": "stdout",
     "output_type": "stream",
     "text": [
      "Counter({np.int64(0): 1637, np.int64(1): 895, np.int64(2): 363})\n",
      "(2895, 2947) (2895,)\n",
      "[0 1 2]\n"
     ]
    }
   ],
   "source": [
    "n_split = 5\n",
    "shuffle = True\n",
    "random_state = 42\n",
    "\n",
    "data = np.load('combined_logmed_transformed.npz')\n",
    "X = data['X']\n",
    "y = data['y']\n",
    "\n",
    "mask = (y != 3) & (y != 4)\n",
    "\n",
    "# Apply mask to X and y\n",
    "X_filtered = X[mask]\n",
    "y_filtered = y[mask]\n",
    "\n",
    "display(X_filtered)\n",
    "print(Counter(y_filtered))\n",
    "print(X_filtered.shape, y_filtered.shape)\n",
    "print(np.unique(y_filtered))\n",
    "\n",
    "skf = StratifiedKFold(n_splits=5, shuffle=True, random_state=42)\n",
    "folds_red = []\n",
    "for i, (train_idx_red, val_idx_red) in enumerate(skf.split(X_filtered, y_filtered)):\n",
    "    folds_red.append({'fold': i+1, 'train_idx': train_idx_red, 'val_idx': val_idx_red})"
   ]
  },
  {
   "cell_type": "code",
   "execution_count": 12,
   "id": "3e25c0a0-4bcf-4e9b-ae91-5125d6adc0f4",
   "metadata": {},
   "outputs": [
    {
     "name": "stdout",
     "output_type": "stream",
     "text": [
      "Algorithm initialising...\n"
     ]
    },
    {
     "data": {
      "image/png": "[encoded data removed]",
      "text/plain": [
       "<Figure size 700x600 with 2 Axes>"
      ]
     },
     "metadata": {},
     "output_type": "display_data"
    },
    {
     "name": "stdout",
     "output_type": "stream",
     "text": [
      "\n",
      "=== Summary ===\n",
      "Dummy — Accuracy: 0.5655 ± 0.0008\n",
      "Dummy — Balanced Accuracy: 0.3333 ± 0.0000\n",
      "Dummy — F1 Score (weighted): 0.4085 ± 0.0010\n",
      "Dummy — Recall (weighted): 0.5655 ± 0.0008\n",
      "\n",
      "\n",
      "RF — Accuracy: 0.7503 ± 0.0180\n",
      "RF — Balanced Accuracy: 0.7723 ± 0.0131\n",
      "RF — F1 Score (weighted): 0.7518 ± 0.0171\n",
      "RF — Recall (weighted): 0.7503 ± 0.0180\n",
      "\n",
      "=== Final Averaged Classification Report Across All Folds ===\n",
      "              precision    recall  f1-score   support\n",
      "\n",
      "           0       0.84      0.78      0.81      1637\n",
      "           1       0.69      0.63      0.66       895\n",
      "           2       0.58      0.91      0.71       363\n",
      "\n",
      "    accuracy                           0.75      2895\n",
      "   macro avg       0.71      0.77      0.73      2895\n",
      "weighted avg       0.76      0.75      0.75      2895\n",
      "\n"
     ]
    }
   ],
   "source": [
    "custom_metrics = {\n",
    "    \"Accuracy\": accuracy_score,\n",
    "    \"Balanced Accuracy\": balanced_accuracy_score,\n",
    "    \"F1 Score (weighted)\": lambda y_true, y_pred: f1_score(y_true, y_pred, average='weighted'),\n",
    "    \"Recall (weighted)\": lambda y_true, y_pred: recall_score(y_true, y_pred, average='weighted')\n",
    "}\n",
    "\n",
    "fit_red_labels = rf_v2(folds = folds_red, X = X_filtered, y = y_filtered, scoring_fns = custom_metrics,\n",
    "                           oversample = True, undersample = True)"
   ]
  },
  {
   "cell_type": "code",
   "execution_count": null,
   "id": "d10cedbb-76b8-4db3-96a2-861854ede857",
   "metadata": {},
   "outputs": [],
   "source": []
  }
 ],
 "metadata": {
  "kernelspec": {
   "display_name": "Python 3 (ipykernel)",
   "language": "python",
   "name": "python3"
  },
  "language_info": {
   "codemirror_mode": {
    "name": "ipython",
    "version": 3
   },
   "file_extension": ".py",
   "mimetype": "text/x-python",
   "name": "python",
   "nbconvert_exporter": "python",
   "pygments_lexer": "ipython3",
   "version": "3.12.7"
  }
 },
 "nbformat": 4,
 "nbformat_minor": 5
}
